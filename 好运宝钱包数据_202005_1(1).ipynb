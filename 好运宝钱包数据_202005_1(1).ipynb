{
 "cells": [
  {
   "cell_type": "code",
   "execution_count": 1,
   "metadata": {},
   "outputs": [],
   "source": [
    "import pandas as pd \n",
    "import numpy as np\n",
    "import datetime \n",
    "import time\n",
    "pd.set_option('display.max_columns', None)\n",
    "day=time.strftime(\"%Y-%m-%d\")"
   ]
  },
  {
   "cell_type": "markdown",
   "metadata": {},
   "source": [
    "# 运行前需确认和输入的信息"
   ]
  },
  {
   "cell_type": "markdown",
   "metadata": {},
   "source": [
    "##  【手动输入】原始数据文件位置"
   ]
  },
  {
   "cell_type": "code",
   "execution_count": 2,
   "metadata": {},
   "outputs": [],
   "source": [
    "file_location = r'C:\\Users\\Administrator\\Desktop\\无车_好运宝钱包5.0-2020.07.07.xlsx'"
   ]
  },
  {
   "cell_type": "markdown",
   "metadata": {},
   "source": [
    "## 【手动输入】上次统计的日期"
   ]
  },
  {
   "cell_type": "code",
   "execution_count": 3,
   "metadata": {},
   "outputs": [],
   "source": [
    "# 手动输入上次做表的日期数字\n",
    "before_last_week = datetime.date(2020,6,29).strftime('%Y%m%d')"
   ]
  },
  {
   "cell_type": "markdown",
   "metadata": {},
   "source": [
    "## 【手动输入】总部和区域销售员数据的文件位置"
   ]
  },
  {
   "cell_type": "code",
   "execution_count": 4,
   "metadata": {},
   "outputs": [],
   "source": [
    "salesman_project_week_location = r'C:\\Users\\Administrator\\Desktop\\赵惠中\\销售员项目数.xlsx'"
   ]
  },
  {
   "cell_type": "markdown",
   "metadata": {},
   "source": [
    "## 【输入】导出文件位置"
   ]
  },
  {
   "cell_type": "code",
   "execution_count": 5,
   "metadata": {
    "scrolled": true
   },
   "outputs": [],
   "source": [
    "wallet_detail_file_location = \"E:\\\\\"+\"好运宝钱包明细\"+day+\".xlsx\""
   ]
  },
  {
   "cell_type": "markdown",
   "metadata": {},
   "source": [
    "# 生成好运宝钱包完成情况总表"
   ]
  },
  {
   "cell_type": "markdown",
   "metadata": {},
   "source": [
    "## 【导入】数据-今日产生有效钱包数"
   ]
  },
  {
   "cell_type": "code",
   "execution_count": 6,
   "metadata": {},
   "outputs": [],
   "source": [
    "# 读取今日产生有效钱包数\n",
    "num_of_wallet_today = pd.read_excel(file_location,sheet_name='今日产生有效钱包数',dtype = {'好运宝钱包配置开启时间':'datetime64'})"
   ]
  },
  {
   "cell_type": "code",
   "execution_count": 7,
   "metadata": {
    "scrolled": true
   },
   "outputs": [],
   "source": [
    "num_of_wallet_today.loc[num_of_wallet_today['部门']=='实施运营部','部门']='商务运营部'"
   ]
  },
  {
   "cell_type": "code",
   "execution_count": 8,
   "metadata": {},
   "outputs": [],
   "source": [
    "# 筛选列（企业id，企业名称，部门，销售姓名\n",
    "num_of_wallet_today_2 = num_of_wallet_today[['企业ID','企业名称','部门','销售姓名']].copy()"
   ]
  },
  {
   "cell_type": "code",
   "execution_count": 9,
   "metadata": {},
   "outputs": [],
   "source": [
    "# 去重\n",
    "num_of_wallet_today_2.drop_duplicates(inplace=True)"
   ]
  },
  {
   "cell_type": "code",
   "execution_count": 10,
   "metadata": {},
   "outputs": [],
   "source": [
    "# 汇总每个企业累计的有效钱包数\n",
    "group1 = num_of_wallet_today.groupby('企业ID')['今日产生有效钱包数'].sum()"
   ]
  },
  {
   "cell_type": "code",
   "execution_count": 11,
   "metadata": {},
   "outputs": [],
   "source": [
    "# 转换为Dataframe\n",
    "comp_id_wallet_num = pd.DataFrame({'企业ID':group1.index,'累计有效钱包数':group1.values})"
   ]
  },
  {
   "cell_type": "code",
   "execution_count": 12,
   "metadata": {},
   "outputs": [],
   "source": [
    "# 拼接企业，部门，销售，钱包数\n",
    "comp_id_wallet_num_2 = pd.merge(num_of_wallet_today_2,comp_id_wallet_num,how='left',on='企业ID')"
   ]
  },
  {
   "cell_type": "markdown",
   "metadata": {},
   "source": [
    "## 【导入】数据-承运司机汇总（每个企业ID对应的承运司机数"
   ]
  },
  {
   "cell_type": "code",
   "execution_count": 13,
   "metadata": {
    "scrolled": true
   },
   "outputs": [],
   "source": [
    "# 读取企业关联的承运司机数量信息\n",
    "driver_num = pd.read_excel(file_location,sheet_name='承运司机汇总')"
   ]
  },
  {
   "cell_type": "code",
   "execution_count": 14,
   "metadata": {},
   "outputs": [],
   "source": [
    "driver_num_2 = driver_num[['企业ID','承运司机的数量']].copy()"
   ]
  },
  {
   "cell_type": "markdown",
   "metadata": {},
   "source": [
    "## 【导入】支付汇总（配置了好运宝钱包的企业ID 对应的支付运单信息"
   ]
  },
  {
   "cell_type": "code",
   "execution_count": 15,
   "metadata": {},
   "outputs": [],
   "source": [
    "# 读取企业运单信息\n",
    "pay_num = pd.read_excel(file_location,sheet_name='支付汇总',dtype = {'好运宝钱包配置开启时间':'datetime64'})"
   ]
  },
  {
   "cell_type": "code",
   "execution_count": 16,
   "metadata": {},
   "outputs": [],
   "source": [
    "# 筛选出需求列\n",
    "pay_num_2 = pay_num[['企业ID','支付运单数量', '本人收款运单数量',\n",
    "       '付运费到钱包的运单数量', '付运费到钱包的司机数量', '支付单里的司机数', '支付到本人的司机数']].copy()"
   ]
  },
  {
   "cell_type": "code",
   "execution_count": 17,
   "metadata": {},
   "outputs": [],
   "source": [
    "# 拼接企业ID对应的司机数\n",
    "comp_id_wallet_num_3 = comp_id_wallet_num_2.merge(driver_num_2,how='left',left_on='企业ID',right_on='企业ID').copy()"
   ]
  },
  {
   "cell_type": "code",
   "execution_count": 18,
   "metadata": {},
   "outputs": [],
   "source": [
    "# 拼接企业ID对应的运单信息\n",
    "comp_id_wallet_num_4 = comp_id_wallet_num_3.merge(pay_num_2,how='left',left_on='企业ID',right_on='企业ID').copy()"
   ]
  },
  {
   "cell_type": "code",
   "execution_count": 19,
   "metadata": {},
   "outputs": [],
   "source": [
    "# 新增计算列，支付比例\n",
    "comp_id_wallet_num_4['支付比例'] = comp_id_wallet_num_4['付运费到钱包的运单数量']/comp_id_wallet_num_4['支付运单数量']"
   ]
  },
  {
   "cell_type": "markdown",
   "metadata": {},
   "source": [
    "## 筛选上次统计日期前的数据"
   ]
  },
  {
   "cell_type": "code",
   "execution_count": 20,
   "metadata": {},
   "outputs": [],
   "source": [
    "# 筛选出上周的数据\n",
    "num_of_wallet_before_last_week = num_of_wallet_today[num_of_wallet_today['日期']<before_last_week].copy()"
   ]
  },
  {
   "cell_type": "code",
   "execution_count": 21,
   "metadata": {},
   "outputs": [],
   "source": [
    "# 每个企业ID上周累计的钱包数汇总\n",
    "group_2 = num_of_wallet_before_last_week.groupby('企业ID')['今日产生有效钱包数'].sum()"
   ]
  },
  {
   "cell_type": "code",
   "execution_count": 22,
   "metadata": {},
   "outputs": [],
   "source": [
    "# 转换为表格\n",
    "comp_id_wallet_num_before = pd.DataFrame({'企业ID':group_2.index,'上周累计有效钱包数':group_2.values})"
   ]
  },
  {
   "cell_type": "code",
   "execution_count": 23,
   "metadata": {
    "scrolled": true
   },
   "outputs": [],
   "source": [
    "# 拼接上周每个企业对应的钱包数和部门销售\n",
    "comp_id_wallet_num_before_2 = pd.merge(comp_id_wallet_num_before,num_of_wallet_today_2,how='left',on='企业ID')"
   ]
  },
  {
   "cell_type": "code",
   "execution_count": 24,
   "metadata": {
    "scrolled": false
   },
   "outputs": [],
   "source": [
    "# 上周每个部门累计的钱包数汇总\n",
    "before_lastweek_wallet_num = comp_id_wallet_num_before_2.groupby('部门')['上周累计有效钱包数'].sum()"
   ]
  },
  {
   "cell_type": "code",
   "execution_count": 25,
   "metadata": {},
   "outputs": [],
   "source": [
    "before_lastweek_wallet_num_1 = pd.DataFrame({'部门':before_lastweek_wallet_num.index,'上周钱包数汇总':before_lastweek_wallet_num.values})"
   ]
  },
  {
   "cell_type": "code",
   "execution_count": 26,
   "metadata": {
    "scrolled": true
   },
   "outputs": [],
   "source": [
    "# 每个部门对应的企业ID数量\n",
    "before_lastweek_comp_num = comp_id_wallet_num_before_2.groupby('部门')['企业ID'].count()"
   ]
  },
  {
   "cell_type": "code",
   "execution_count": 27,
   "metadata": {},
   "outputs": [],
   "source": [
    "# 转换为表格\n",
    "before_lastweek_pay_num = pd.DataFrame({'部门':before_lastweek_comp_num.index,'上周已支付企业数汇总':before_lastweek_comp_num.values})"
   ]
  },
  {
   "cell_type": "markdown",
   "metadata": {},
   "source": [
    "## 透视得到目前每个部门的数据"
   ]
  },
  {
   "cell_type": "code",
   "execution_count": 28,
   "metadata": {
    "scrolled": true
   },
   "outputs": [],
   "source": [
    "# 透视每个部门下的数据汇总\n",
    "group_3 = comp_id_wallet_num_4.groupby('部门').agg({'企业ID':'count','支付运单数量':'sum',\n",
    "                                        '承运司机的数量':'sum','本人收款运单数量':'sum',\n",
    "                                        '付运费到钱包的运单数量':'sum','累计有效钱包数':'sum'})"
   ]
  },
  {
   "cell_type": "code",
   "execution_count": 29,
   "metadata": {},
   "outputs": [],
   "source": [
    "# 重置索引\n",
    "wallet_wancheng = group_3.reset_index(inplace=True)"
   ]
  },
  {
   "cell_type": "code",
   "execution_count": 30,
   "metadata": {},
   "outputs": [],
   "source": [
    "# 修改列名\n",
    "group_3.rename({'企业ID':'已支付企业数汇总','支付运单数量':'支付运单总数','承运司机的数量':'承运司机总数',\n",
    "               '本人收款运单数量':'本人收款运单数','付运费到钱包的运单数量':'支付到钱包运单数','累计有效钱包数':'钱包数汇总'},axis='columns',inplace=True)"
   ]
  },
  {
   "cell_type": "code",
   "execution_count": 31,
   "metadata": {},
   "outputs": [],
   "source": [
    "# 拼接部门对应的上周支付企业数\n",
    "group_4 = group_3.merge(before_lastweek_pay_num,how='left',on='部门')"
   ]
  },
  {
   "cell_type": "code",
   "execution_count": 32,
   "metadata": {},
   "outputs": [],
   "source": [
    "# 新增字段\n",
    "group_4['新增支付企业数'] = group_4['已支付企业数汇总'] - group_4['上周已支付企业数汇总']"
   ]
  },
  {
   "cell_type": "code",
   "execution_count": 33,
   "metadata": {},
   "outputs": [],
   "source": [
    "# 拼接每个部门对应的上周钱包数\n",
    "group_4 = group_4.merge(before_lastweek_wallet_num_1,how='left',on='部门')"
   ]
  },
  {
   "cell_type": "code",
   "execution_count": 34,
   "metadata": {},
   "outputs": [],
   "source": [
    "# 新增字段\n",
    "group_4['周增长'] = group_4['钱包数汇总'] - group_4['上周钱包数汇总']"
   ]
  },
  {
   "cell_type": "code",
   "execution_count": 35,
   "metadata": {},
   "outputs": [],
   "source": [
    "# 新增字段\n",
    "group_4['钱包支付比例（50%支付比例）']=group_4['支付到钱包运单数']/group_4['支付运单总数']"
   ]
  },
  {
   "cell_type": "code",
   "execution_count": 36,
   "metadata": {},
   "outputs": [],
   "source": [
    "# 删除拼接的上周数据\n",
    "group_4.drop(['上周已支付企业数汇总','上周钱包数汇总'],axis=1,inplace=True)"
   ]
  },
  {
   "cell_type": "code",
   "execution_count": 37,
   "metadata": {},
   "outputs": [],
   "source": [
    "dept_list = ['营销一部','营销二部','营销三部','营销四部','营销五部','营销六部','营销七部','营销八部','培训营',\n",
    "                '集团一部','集团二部','集团三部','集团四部','商务运营部','区域营销部']\n",
    "\n",
    "group_4['部门'] = pd.Categorical(group_4['部门'], categories=dept_list, ordered=True)\n",
    "\n",
    "group_4.sort_values(by='部门',inplace=True)"
   ]
  },
  {
   "cell_type": "markdown",
   "metadata": {},
   "source": [
    "## 【导出】为excel文件-好运宝钱包明细+日期.xlsx"
   ]
  },
  {
   "cell_type": "code",
   "execution_count": 38,
   "metadata": {},
   "outputs": [],
   "source": [
    "# 导出为EXCEL\n",
    "group_4.to_excel(wallet_detail_file_location,index=False)"
   ]
  },
  {
   "cell_type": "markdown",
   "metadata": {},
   "source": [
    "# 生成总明细表"
   ]
  },
  {
   "cell_type": "code",
   "execution_count": 39,
   "metadata": {},
   "outputs": [],
   "source": [
    "total_project = num_of_wallet_today_2.merge(driver_num_2,how='left',on='企业ID')"
   ]
  },
  {
   "cell_type": "code",
   "execution_count": 40,
   "metadata": {},
   "outputs": [],
   "source": [
    "total_project = total_project.merge(comp_id_wallet_num,how='left',on='企业ID')"
   ]
  },
  {
   "cell_type": "code",
   "execution_count": 41,
   "metadata": {},
   "outputs": [],
   "source": [
    "total_project = total_project.merge(comp_id_wallet_num_before,how='left',on='企业ID')"
   ]
  },
  {
   "cell_type": "code",
   "execution_count": 42,
   "metadata": {},
   "outputs": [],
   "source": [
    "total_project['周增长'] = total_project['累计有效钱包数'] - total_project['上周累计有效钱包数']"
   ]
  },
  {
   "cell_type": "code",
   "execution_count": 43,
   "metadata": {},
   "outputs": [],
   "source": [
    "total_project = total_project.merge(pay_num_2,how='left',on='企业ID')"
   ]
  },
  {
   "cell_type": "code",
   "execution_count": 44,
   "metadata": {},
   "outputs": [],
   "source": [
    "total_project['支付比例'] = total_project['付运费到钱包的运单数量']/total_project['支付运单数量']"
   ]
  },
  {
   "cell_type": "markdown",
   "metadata": {},
   "source": [
    "# 生成区域和总部销售表"
   ]
  },
  {
   "cell_type": "markdown",
   "metadata": {},
   "source": [
    "## 已开通项目的相关数据"
   ]
  },
  {
   "cell_type": "code",
   "execution_count": 45,
   "metadata": {},
   "outputs": [],
   "source": [
    "# 获取销售原始数据\n",
    "data_salesperson = total_project.copy()"
   ]
  },
  {
   "cell_type": "markdown",
   "metadata": {},
   "source": [
    "## 【导入】区域和总部的销售人员数据"
   ]
  },
  {
   "cell_type": "code",
   "execution_count": 46,
   "metadata": {},
   "outputs": [],
   "source": [
    "# 导入区域销售\n",
    "area_salesperson = pd.read_excel(salesman_project_week_location,sheet_name='区域')\n",
    "# 导入总部销售\n",
    "general_salesperson = pd.read_excel(salesman_project_week_location,sheet_name='总部')"
   ]
  },
  {
   "cell_type": "markdown",
   "metadata": {},
   "source": [
    "## 生成区域销售数据"
   ]
  },
  {
   "cell_type": "code",
   "execution_count": 47,
   "metadata": {},
   "outputs": [],
   "source": [
    "# 每个销售名下开通钱包服务的项目数量\n",
    "dept_num = data_salesperson.groupby('销售姓名')['企业ID'].count()\n",
    "# 转换\n",
    "dept_num_1 = pd.DataFrame({'销售姓名':dept_num.index,'开通钱包项目数':dept_num.values})\n",
    "# 拼接\n",
    "area_salesperson_data = area_salesperson.merge(dept_num_1,how='left',on='销售姓名')"
   ]
  },
  {
   "cell_type": "code",
   "execution_count": 48,
   "metadata": {},
   "outputs": [],
   "source": [
    "# 新增计算列\n",
    "area_salesperson_data['开通钱包项目率'] = area_salesperson_data['开通钱包项目数']/area_salesperson_data['切换数']"
   ]
  },
  {
   "cell_type": "code",
   "execution_count": 49,
   "metadata": {},
   "outputs": [],
   "source": [
    "# 每个销售名下的项目开通钱包数汇总\n",
    "wallet_sum = data_salesperson.groupby('销售姓名')['累计有效钱包数'].sum()\n",
    "wallet_sum_1 = pd.DataFrame({'销售姓名':wallet_sum.index,'累计有效钱包数':wallet_sum.values})\n",
    "area_salesperson_data = area_salesperson_data.merge(wallet_sum_1,how='left',on='销售姓名')"
   ]
  },
  {
   "cell_type": "code",
   "execution_count": 50,
   "metadata": {},
   "outputs": [],
   "source": [
    "# 每个销售名下这一周增长的钱包数汇总\n",
    "week_increase_sum = data_salesperson.groupby('销售姓名')['周增长'].sum()\n",
    "week_increase_sum_1 = pd.DataFrame({'销售姓名':week_increase_sum.index,'周增长':week_increase_sum.values})\n",
    "area_salesperson_data = area_salesperson_data.merge(week_increase_sum_1,how='left',on='销售姓名')"
   ]
  },
  {
   "cell_type": "code",
   "execution_count": 51,
   "metadata": {},
   "outputs": [],
   "source": [
    "# 每个销售名下项目累计支付的运单数汇总\n",
    "waybill_num = data_salesperson.groupby('销售姓名')['支付运单数量'].sum()\n",
    "waybill_num_1 = pd.DataFrame({'销售姓名':waybill_num.index,'支付运单数':waybill_num.values})\n",
    "area_salesperson_data = area_salesperson_data.merge(waybill_num_1,how='left',on='销售姓名')"
   ]
  },
  {
   "cell_type": "code",
   "execution_count": 52,
   "metadata": {},
   "outputs": [],
   "source": [
    "# 每个销售名下项目累计付运费到钱包数汇总\n",
    "pay_to_wallet_num = data_salesperson.groupby('销售姓名')['付运费到钱包的运单数量'].sum()\n",
    "pay_to_wallet_num_1 = pd.DataFrame({'销售姓名':pay_to_wallet_num.index,'付运费到钱包的运单数':pay_to_wallet_num.values})\n",
    "area_salesperson_data = area_salesperson_data.merge(pay_to_wallet_num_1,how='left',on='销售姓名')"
   ]
  },
  {
   "cell_type": "code",
   "execution_count": 53,
   "metadata": {},
   "outputs": [],
   "source": [
    "# 新增计算列\n",
    "area_salesperson_data['支付比例'] = area_salesperson_data['付运费到钱包的运单数']/area_salesperson_data['支付运单数']"
   ]
  },
  {
   "cell_type": "markdown",
   "metadata": {},
   "source": [
    "## 生成总部销售数据"
   ]
  },
  {
   "cell_type": "code",
   "execution_count": 54,
   "metadata": {},
   "outputs": [],
   "source": [
    "# 每个销售名下开通钱包服务的项目数量\n",
    "dept_num = data_salesperson.groupby('销售姓名')['企业ID'].count()\n",
    "# 转换\n",
    "dept_num_1 = pd.DataFrame({'销售姓名':dept_num.index,'开通钱包项目数':dept_num.values})\n",
    "# 拼接\n",
    "general_salesperson_data = general_salesperson.merge(dept_num_1,how='left',on='销售姓名')\n",
    "# 新增计算列\n",
    "\n",
    "general_salesperson_data['开通钱包项目率'] = general_salesperson_data['开通钱包项目数']/general_salesperson_data['切换数']\n",
    "\n",
    "# 每个销售名下的项目开通钱包数汇总\n",
    "wallet_sum = data_salesperson.groupby('销售姓名')['累计有效钱包数'].sum()\n",
    "wallet_sum_1 = pd.DataFrame({'销售姓名':wallet_sum.index,'累计有效钱包数':wallet_sum.values})\n",
    "general_salesperson_data = general_salesperson_data.merge(wallet_sum_1,how='left',on='销售姓名')\n",
    "\n",
    "# 每个销售名下这一周增长的钱包数汇总\n",
    "week_increase_sum = data_salesperson.groupby('销售姓名')['周增长'].sum()\n",
    "week_increase_sum_1 = pd.DataFrame({'销售姓名':week_increase_sum.index,'周增长':week_increase_sum.values})\n",
    "general_salesperson_data = general_salesperson_data.merge(week_increase_sum_1,how='left',on='销售姓名')\n",
    "\n",
    "# 每个销售名下项目累计支付的运单数汇总\n",
    "waybill_num = data_salesperson.groupby('销售姓名')['支付运单数量'].sum()\n",
    "waybill_num_1 = pd.DataFrame({'销售姓名':waybill_num.index,'支付运单数':waybill_num.values})\n",
    "general_salesperson_data = general_salesperson_data.merge(waybill_num_1,how='left',on='销售姓名')\n",
    "\n",
    "# 每个销售名下项目累计付运费到钱包数汇总\n",
    "pay_to_wallet_num = data_salesperson.groupby('销售姓名')['付运费到钱包的运单数量'].sum()\n",
    "pay_to_wallet_num_1 = pd.DataFrame({'销售姓名':pay_to_wallet_num.index,'付运费到钱包数':pay_to_wallet_num.values})\n",
    "general_salesperson_data = general_salesperson_data.merge(pay_to_wallet_num_1,how='left',on='销售姓名')\n",
    "\n",
    "# 新增计算列\n",
    "general_salesperson_data['支付比例'] = general_salesperson_data['付运费到钱包数']/general_salesperson_data['支付运单数']"
   ]
  },
  {
   "cell_type": "markdown",
   "metadata": {},
   "source": [
    "## 【导出】总明细表/区域销售/总部销售表"
   ]
  },
  {
   "cell_type": "code",
   "execution_count": null,
   "metadata": {},
   "outputs": [],
   "source": [
    "wallet_detail_file_location = \"E:\\\\\"+\"好运宝钱包明细\"+day+\".xlsx\""
   ]
  },
  {
   "cell_type": "code",
   "execution_count": 55,
   "metadata": {},
   "outputs": [],
   "source": [
    "from openpyxl import load_workbook\n",
    "\n",
    "writer = pd.ExcelWriter(wallet_detail_file_location,engine='openpyxl')\n",
    "book = load_workbook(writer.path)\n",
    "writer.book = book\n",
    "total_project.to_excel(excel_writer=writer,sheet_name='总明细',index=False)\n",
    "area_salesperson_data.to_excel(excel_writer=writer,sheet_name='区域销售',index=False)\n",
    "general_salesperson_data.to_excel(excel_writer=writer,sheet_name='总部销售',index=False)\n",
    "\n",
    "writer.save()\n",
    "writer.close()"
   ]
  }
 ],
 "metadata": {
  "kernelspec": {
   "display_name": "Python 3",
   "language": "python",
   "name": "python3"
  },
  "language_info": {
   "codemirror_mode": {
    "name": "ipython",
    "version": 3
   },
   "file_extension": ".py",
   "mimetype": "text/x-python",
   "name": "python",
   "nbconvert_exporter": "python",
   "pygments_lexer": "ipython3",
   "version": "3.7.6"
  },
  "toc": {
   "base_numbering": 1,
   "nav_menu": {},
   "number_sections": true,
   "sideBar": true,
   "skip_h1_title": false,
   "title_cell": "Table of Contents",
   "title_sidebar": "Contents",
   "toc_cell": false,
   "toc_position": {
    "height": "calc(100% - 180px)",
    "left": "10px",
    "top": "150px",
    "width": "328.797px"
   },
   "toc_section_display": true,
   "toc_window_display": true
  },
  "varInspector": {
   "cols": {
    "lenName": 16,
    "lenType": 16,
    "lenVar": 40
   },
   "kernels_config": {
    "python": {
     "delete_cmd_postfix": "",
     "delete_cmd_prefix": "del ",
     "library": "var_list.py",
     "varRefreshCmd": "print(var_dic_list())"
    },
    "r": {
     "delete_cmd_postfix": ") ",
     "delete_cmd_prefix": "rm(",
     "library": "var_list.r",
     "varRefreshCmd": "cat(var_dic_list()) "
    }
   },
   "types_to_exclude": [
    "module",
    "function",
    "builtin_function_or_method",
    "instance",
    "_Feature"
   ],
   "window_display": false
  }
 },
 "nbformat": 4,
 "nbformat_minor": 4
}
